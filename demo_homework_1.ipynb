{
 "cells": [
  {
   "cell_type": "markdown",
   "metadata": {},
   "source": [
    "<center>\n",
    "<img src=\"../../img/ods_stickers.jpg\">\n",
    "## Открытый курс по машинному обучению\n",
    "<center>\n",
    "Автор материала: Юрий Кашницкий, программист-исследователь Mail.Ru Group <br> \n",
    "\n",
    "Материал распространяется на условиях лицензии [Creative Commons CC BY-NC-SA 4.0](https://creativecommons.org/licenses/by-nc-sa/4.0/). Можно использовать в любых целях (редактировать, поправлять и брать за основу), кроме коммерческих, но с обязательным упоминанием автора материала."
   ]
  },
  {
   "cell_type": "markdown",
   "metadata": {},
   "source": [
    "# <center>Домашнее задание № 1 (демо).<br> Анализ данных по доходу населения UCI Adult</center>"
   ]
  },
  {
   "cell_type": "markdown",
   "metadata": {},
   "source": [
    "**В задании предлагается с помощью Pandas ответить на несколько вопросов по данным репозитория UCI [Adult](https://archive.ics.uci.edu/ml/datasets/Adult) (качать данные не надо – они уже есть в репозитории). Для отправки решений используйте [онлайн-форму](https://docs.google.com/forms/d/1xAzU-5N6oEeR4UG8G44V6XL-Kbr4WYcPBG45Kijge2Y).**"
   ]
  },
  {
   "cell_type": "markdown",
   "metadata": {},
   "source": [
    "Уникальные значения признаков (больше информации по ссылке выше):\n",
    "- age: continuous.\n",
    "- workclass: Private, Self-emp-not-inc, Self-emp-inc, Federal-gov, Local-gov, State-gov, Without-pay, Never-worked.\n",
    "- fnlwgt: continuous.\n",
    "- education: Bachelors, Some-college, 11th, HS-grad, Prof-school, Assoc-acdm, Assoc-voc, 9th, 7th-8th, 12th, Masters, 1st-4th, 10th, Doctorate, 5th-6th, Preschool.\n",
    "- education-num: continuous.\n",
    "- marital-status: Married-civ-spouse, Divorced, Never-married, Separated, Widowed, Married-spouse-absent, Married-AF-spouse.\n",
    "- occupation: Tech-support, Craft-repair, Other-service, Sales, Exec-managerial, Prof-specialty, Handlers-cleaners, Machine-op-inspct, Adm-clerical, Farming-fishing, Transport-moving, Priv-house-serv, Protective-serv, Armed-Forces.\n",
    "- relationship: Wife, Own-child, Husband, Not-in-family, Other-relative, Unmarried.\n",
    "- race: White, Asian-Pac-Islander, Amer-Indian-Eskimo, Other, Black.\n",
    "- sex: Female, Male.\n",
    "- capital-gain: continuous.\n",
    "- capital-loss: continuous.\n",
    "- hours-per-week: continuous.\n",
    "- native-country: United-States, Cambodia, England, Puerto-Rico, Canada, Germany, Outlying-US(Guam-USVI-etc), India, Japan, Greece, South, China, Cuba, Iran, Honduras, Philippines, Italy, Poland, Jamaica, Vietnam, Mexico, Portugal, Ireland, France, Dominican-Republic, Laos, Ecuador, Taiwan, Haiti, Columbia, Hungary, Guatemala, Nicaragua, Scotland, Thailand, Yugoslavia, El-Salvador, Trinadad&Tobago, Peru, Hong, Holand-Netherlands.   \n",
    "- salary: >50K,<=50K"
   ]
  },
  {
   "cell_type": "code",
   "execution_count": 93,
   "metadata": {},
   "outputs": [],
   "source": [
    "import pandas as pd\n",
    "import numpy as np"
   ]
  },
  {
   "cell_type": "code",
   "execution_count": 94,
   "metadata": {},
   "outputs": [
    {
     "data": {
      "text/html": [
       "<div>\n",
       "<style scoped>\n",
       "    .dataframe tbody tr th:only-of-type {\n",
       "        vertical-align: middle;\n",
       "    }\n",
       "\n",
       "    .dataframe tbody tr th {\n",
       "        vertical-align: top;\n",
       "    }\n",
       "\n",
       "    .dataframe thead th {\n",
       "        text-align: right;\n",
       "    }\n",
       "</style>\n",
       "<table border=\"1\" class=\"dataframe\">\n",
       "  <thead>\n",
       "    <tr style=\"text-align: right;\">\n",
       "      <th></th>\n",
       "      <th>age</th>\n",
       "      <th>workclass</th>\n",
       "      <th>fnlwgt</th>\n",
       "      <th>education</th>\n",
       "      <th>education-num</th>\n",
       "      <th>marital-status</th>\n",
       "      <th>occupation</th>\n",
       "      <th>relationship</th>\n",
       "      <th>race</th>\n",
       "      <th>sex</th>\n",
       "      <th>capital-gain</th>\n",
       "      <th>capital-loss</th>\n",
       "      <th>hours-per-week</th>\n",
       "      <th>native-country</th>\n",
       "      <th>salary</th>\n",
       "    </tr>\n",
       "  </thead>\n",
       "  <tbody>\n",
       "    <tr>\n",
       "      <th>0</th>\n",
       "      <td>39</td>\n",
       "      <td>State-gov</td>\n",
       "      <td>77516</td>\n",
       "      <td>Bachelors</td>\n",
       "      <td>13</td>\n",
       "      <td>Never-married</td>\n",
       "      <td>Adm-clerical</td>\n",
       "      <td>Not-in-family</td>\n",
       "      <td>White</td>\n",
       "      <td>Male</td>\n",
       "      <td>2174</td>\n",
       "      <td>0</td>\n",
       "      <td>40</td>\n",
       "      <td>United-States</td>\n",
       "      <td>&lt;=50K</td>\n",
       "    </tr>\n",
       "    <tr>\n",
       "      <th>1</th>\n",
       "      <td>50</td>\n",
       "      <td>Self-emp-not-inc</td>\n",
       "      <td>83311</td>\n",
       "      <td>Bachelors</td>\n",
       "      <td>13</td>\n",
       "      <td>Married-civ-spouse</td>\n",
       "      <td>Exec-managerial</td>\n",
       "      <td>Husband</td>\n",
       "      <td>White</td>\n",
       "      <td>Male</td>\n",
       "      <td>0</td>\n",
       "      <td>0</td>\n",
       "      <td>13</td>\n",
       "      <td>United-States</td>\n",
       "      <td>&lt;=50K</td>\n",
       "    </tr>\n",
       "    <tr>\n",
       "      <th>2</th>\n",
       "      <td>38</td>\n",
       "      <td>Private</td>\n",
       "      <td>215646</td>\n",
       "      <td>HS-grad</td>\n",
       "      <td>9</td>\n",
       "      <td>Divorced</td>\n",
       "      <td>Handlers-cleaners</td>\n",
       "      <td>Not-in-family</td>\n",
       "      <td>White</td>\n",
       "      <td>Male</td>\n",
       "      <td>0</td>\n",
       "      <td>0</td>\n",
       "      <td>40</td>\n",
       "      <td>United-States</td>\n",
       "      <td>&lt;=50K</td>\n",
       "    </tr>\n",
       "    <tr>\n",
       "      <th>3</th>\n",
       "      <td>53</td>\n",
       "      <td>Private</td>\n",
       "      <td>234721</td>\n",
       "      <td>11th</td>\n",
       "      <td>7</td>\n",
       "      <td>Married-civ-spouse</td>\n",
       "      <td>Handlers-cleaners</td>\n",
       "      <td>Husband</td>\n",
       "      <td>Black</td>\n",
       "      <td>Male</td>\n",
       "      <td>0</td>\n",
       "      <td>0</td>\n",
       "      <td>40</td>\n",
       "      <td>United-States</td>\n",
       "      <td>&lt;=50K</td>\n",
       "    </tr>\n",
       "    <tr>\n",
       "      <th>4</th>\n",
       "      <td>28</td>\n",
       "      <td>Private</td>\n",
       "      <td>338409</td>\n",
       "      <td>Bachelors</td>\n",
       "      <td>13</td>\n",
       "      <td>Married-civ-spouse</td>\n",
       "      <td>Prof-specialty</td>\n",
       "      <td>Wife</td>\n",
       "      <td>Black</td>\n",
       "      <td>Female</td>\n",
       "      <td>0</td>\n",
       "      <td>0</td>\n",
       "      <td>40</td>\n",
       "      <td>Cuba</td>\n",
       "      <td>&lt;=50K</td>\n",
       "    </tr>\n",
       "  </tbody>\n",
       "</table>\n",
       "</div>"
      ],
      "text/plain": [
       "   age         workclass  fnlwgt  education  education-num  \\\n",
       "0   39         State-gov   77516  Bachelors             13   \n",
       "1   50  Self-emp-not-inc   83311  Bachelors             13   \n",
       "2   38           Private  215646    HS-grad              9   \n",
       "3   53           Private  234721       11th              7   \n",
       "4   28           Private  338409  Bachelors             13   \n",
       "\n",
       "       marital-status         occupation   relationship   race     sex  \\\n",
       "0       Never-married       Adm-clerical  Not-in-family  White    Male   \n",
       "1  Married-civ-spouse    Exec-managerial        Husband  White    Male   \n",
       "2            Divorced  Handlers-cleaners  Not-in-family  White    Male   \n",
       "3  Married-civ-spouse  Handlers-cleaners        Husband  Black    Male   \n",
       "4  Married-civ-spouse     Prof-specialty           Wife  Black  Female   \n",
       "\n",
       "   capital-gain  capital-loss  hours-per-week native-country salary  \n",
       "0          2174             0              40  United-States  <=50K  \n",
       "1             0             0              13  United-States  <=50K  \n",
       "2             0             0              40  United-States  <=50K  \n",
       "3             0             0              40  United-States  <=50K  \n",
       "4             0             0              40           Cuba  <=50K  "
      ]
     },
     "execution_count": 94,
     "metadata": {},
     "output_type": "execute_result"
    }
   ],
   "source": [
    "data = pd.read_csv('../../data/adult.data.csv')\n",
    "data.head()"
   ]
  },
  {
   "cell_type": "markdown",
   "metadata": {},
   "source": [
    "**1. Сколько мужчин и женщин (признак *sex*) представлено в этом наборе данных?**"
   ]
  },
  {
   "cell_type": "code",
   "execution_count": 95,
   "metadata": {},
   "outputs": [
    {
     "name": "stdout",
     "output_type": "stream",
     "text": [
      "10771\n"
     ]
    },
    {
     "data": {
      "text/plain": [
       "21790"
      ]
     },
     "execution_count": 95,
     "metadata": {},
     "output_type": "execute_result"
    }
   ],
   "source": [
    "print(data[data['sex']=='Female'].shape[0])\n",
    "data[data['sex']=='Male'].shape[0]"
   ]
  },
  {
   "cell_type": "markdown",
   "metadata": {},
   "source": [
    "**2. Каков средний возраст (признак *age*) женщин?**"
   ]
  },
  {
   "cell_type": "code",
   "execution_count": 96,
   "metadata": {},
   "outputs": [
    {
     "data": {
      "text/plain": [
       "36.85823043357163"
      ]
     },
     "execution_count": 96,
     "metadata": {},
     "output_type": "execute_result"
    }
   ],
   "source": [
    "data[data['sex']=='Female']['age'].mean()"
   ]
  },
  {
   "cell_type": "markdown",
   "metadata": {},
   "source": [
    "**3. Какова доля граждан Германии (признак *native-country*)?**"
   ]
  },
  {
   "cell_type": "code",
   "execution_count": 97,
   "metadata": {},
   "outputs": [
    {
     "name": "stdout",
     "output_type": "stream",
     "text": [
      "137\n",
      "0.004207487485028101\n"
     ]
    },
    {
     "data": {
      "text/plain": [
       "137"
      ]
     },
     "execution_count": 97,
     "metadata": {},
     "output_type": "execute_result"
    }
   ],
   "source": [
    "count_Germany=data[data['native-country']=='Germany'].shape[0]\n",
    "print(count_Germany)\n",
    "print(count_Germany/data.shape[0])\n",
    "b=data['native-country']=='Germany'\n",
    "b.value_counts()[1]"
   ]
  },
  {
   "cell_type": "markdown",
   "metadata": {},
   "source": [
    "**4-5. Каковы средние значения и среднеквадратичные отклонения возраста тех, кто получает более 50K в год (признак *salary*) и тех, кто получает менее 50K в год? **"
   ]
  },
  {
   "cell_type": "code",
   "execution_count": 98,
   "metadata": {},
   "outputs": [
    {
     "name": "stdout",
     "output_type": "stream",
     "text": [
      "36.78373786407767 14.020088490824813\n",
      "44.24984058155847 10.51902771985177\n"
     ]
    }
   ],
   "source": [
    "menee50=data[data['salary']=='<=50K'][\"age\"].describe()\n",
    "bolee50=data[data['salary']=='>50K'][\"age\"].describe()\n",
    "print(menee50['mean'],menee50['std'])\n",
    "print(bolee50['mean'],bolee50['std'])"
   ]
  },
  {
   "cell_type": "markdown",
   "metadata": {},
   "source": [
    "**6. Правда ли, что люди, которые получают больше 50k, имеют как минимум высшее образование? (признак *education – Bachelors, Prof-school, Assoc-acdm, Assoc-voc, Masters* или *Doctorate*)**"
   ]
  },
  {
   "cell_type": "code",
   "execution_count": 101,
   "metadata": {},
   "outputs": [
    {
     "name": "stdout",
     "output_type": "stream",
     "text": [
      "10th   62\n",
      "11th   60\n",
      "12th   33\n",
      "1st-4th   6\n",
      "5th-6th   16\n",
      "7th-8th   40\n",
      "9th   27\n",
      "Assoc-acdm   265\n",
      "Assoc-voc   361\n",
      "Bachelors   2221\n",
      "Doctorate   306\n",
      "HS-grad   1675\n",
      "Masters   959\n",
      "Prof-school   423\n",
      "Some-college   1387\n"
     ]
    },
    {
     "data": {
      "text/html": [
       "<div>\n",
       "<style scoped>\n",
       "    .dataframe tbody tr th:only-of-type {\n",
       "        vertical-align: middle;\n",
       "    }\n",
       "\n",
       "    .dataframe tbody tr th {\n",
       "        vertical-align: top;\n",
       "    }\n",
       "\n",
       "    .dataframe thead th {\n",
       "        text-align: right;\n",
       "    }\n",
       "</style>\n",
       "<table border=\"1\" class=\"dataframe\">\n",
       "  <thead>\n",
       "    <tr style=\"text-align: right;\">\n",
       "      <th></th>\n",
       "      <th>age</th>\n",
       "    </tr>\n",
       "    <tr>\n",
       "      <th>education</th>\n",
       "      <th></th>\n",
       "    </tr>\n",
       "  </thead>\n",
       "  <tbody>\n",
       "    <tr>\n",
       "      <th>10th</th>\n",
       "      <td>51.5</td>\n",
       "    </tr>\n",
       "    <tr>\n",
       "      <th>11th</th>\n",
       "      <td>44.5</td>\n",
       "    </tr>\n",
       "    <tr>\n",
       "      <th>12th</th>\n",
       "      <td>44.0</td>\n",
       "    </tr>\n",
       "    <tr>\n",
       "      <th>1st-4th</th>\n",
       "      <td>52.5</td>\n",
       "    </tr>\n",
       "    <tr>\n",
       "      <th>5th-6th</th>\n",
       "      <td>50.0</td>\n",
       "    </tr>\n",
       "    <tr>\n",
       "      <th>7th-8th</th>\n",
       "      <td>55.0</td>\n",
       "    </tr>\n",
       "    <tr>\n",
       "      <th>9th</th>\n",
       "      <td>49.0</td>\n",
       "    </tr>\n",
       "    <tr>\n",
       "      <th>Assoc-acdm</th>\n",
       "      <td>40.0</td>\n",
       "    </tr>\n",
       "    <tr>\n",
       "      <th>Assoc-voc</th>\n",
       "      <td>41.0</td>\n",
       "    </tr>\n",
       "    <tr>\n",
       "      <th>Bachelors</th>\n",
       "      <td>42.0</td>\n",
       "    </tr>\n",
       "    <tr>\n",
       "      <th>Doctorate</th>\n",
       "      <td>48.0</td>\n",
       "    </tr>\n",
       "    <tr>\n",
       "      <th>HS-grad</th>\n",
       "      <td>45.0</td>\n",
       "    </tr>\n",
       "    <tr>\n",
       "      <th>Masters</th>\n",
       "      <td>45.0</td>\n",
       "    </tr>\n",
       "    <tr>\n",
       "      <th>Prof-school</th>\n",
       "      <td>44.0</td>\n",
       "    </tr>\n",
       "    <tr>\n",
       "      <th>Some-college</th>\n",
       "      <td>44.0</td>\n",
       "    </tr>\n",
       "  </tbody>\n",
       "</table>\n",
       "</div>"
      ],
      "text/plain": [
       "               age\n",
       "education         \n",
       "10th          51.5\n",
       "11th          44.5\n",
       "12th          44.0\n",
       "1st-4th       52.5\n",
       "5th-6th       50.0\n",
       "7th-8th       55.0\n",
       "9th           49.0\n",
       "Assoc-acdm    40.0\n",
       "Assoc-voc     41.0\n",
       "Bachelors     42.0\n",
       "Doctorate     48.0\n",
       "HS-grad       45.0\n",
       "Masters       45.0\n",
       "Prof-school   44.0\n",
       "Some-college  44.0"
      ]
     },
     "execution_count": 101,
     "metadata": {},
     "output_type": "execute_result"
    }
   ],
   "source": [
    "bolee501=data[data['salary']=='>50K']\n",
    "mas=[bolee501[bolee501['education']==\"Bachelors\"],bolee501[bolee501['education']==\"Prof-school\"],bolee501[bolee501['education']==\"Assoc-acdm\"]]\n",
    "mas[0].shape[0]\n",
    "for el,key in bolee501.groupby('education'):\n",
    "    print(el,\" \",key.shape[0])\n",
    "    \n",
    "bolee501.groupby('education')[['age']].agg(np.median)"
   ]
  },
  {
   "cell_type": "markdown",
   "metadata": {},
   "source": [
    "**7. Выведите статистику возраста для каждой расы (признак *race*) и каждого пола. Используйте *groupby* и *describe*. Найдите таким образом максимальный возраст мужчин расы *Amer-Indian-Eskimo*.**"
   ]
  },
  {
   "cell_type": "code",
   "execution_count": 109,
   "metadata": {},
   "outputs": [
    {
     "name": "stdout",
     "output_type": "stream",
     "text": [
      "count    192.000000\n",
      "mean      37.208333\n",
      "std       12.049563\n",
      "min       17.000000\n",
      "25%       28.000000\n",
      "50%       35.000000\n",
      "75%       45.000000\n",
      "max       82.000000\n",
      "Name: age, dtype: float64\n"
     ]
    }
   ],
   "source": [
    "for el, datael in data.groupby(['race','sex']):\n",
    "    if el[0]==\"Amer-Indian-Eskimo\" and el[1]==\"Male\":\n",
    "        print(datael['age'].describe())"
   ]
  },
  {
   "cell_type": "markdown",
   "metadata": {},
   "source": [
    "**8. Среди кого больше доля зарабатывающих много (>50K): среди женатых или холостых мужчин (признак *marital-status*)? Женатыми считаем тех, у кого *marital-status* начинается с *Married* (Married-civ-spouse, Married-spouse-absent или Married-AF-spouse), остальных считаем холостыми.**"
   ]
  },
  {
   "cell_type": "code",
   "execution_count": 115,
   "metadata": {},
   "outputs": [
    {
     "name": "stdout",
     "output_type": "stream",
     "text": [
      "5965 697\n"
     ]
    }
   ],
   "source": [
    "dateMenSal=data[(data['sex']==\"Male\")&(data['salary']==\">50K\")]\n",
    "countMaried=0\n",
    "countNoMaried=0\n",
    "for key,value in dateMenSal.groupby('marital-status'):\n",
    "    if (key.find(\"Married\")==-1):\n",
    "        countNoMaried+=int(value.shape[0])\n",
    "    else:\n",
    "        countMaried+=int(value.shape[0])\n",
    "print(countMaried, countNoMaried)\n",
    "    "
   ]
  },
  {
   "cell_type": "markdown",
   "metadata": {},
   "source": [
    "**9. Какое максимальное число часов человек работает в неделю (признак *hours-per-week*)? Сколько людей работают такое количество часов и каков среди них процент зарабатывающих много?**"
   ]
  },
  {
   "cell_type": "code",
   "execution_count": 118,
   "metadata": {},
   "outputs": [
    {
     "name": "stdout",
     "output_type": "stream",
     "text": [
      "1 - 20\n",
      "2 - 32\n",
      "3 - 39\n",
      "4 - 54\n",
      "5 - 60\n",
      "6 - 64\n",
      "7 - 26\n",
      "8 - 145\n",
      "9 - 18\n",
      "10 - 278\n",
      "11 - 11\n",
      "12 - 173\n",
      "13 - 23\n",
      "14 - 34\n",
      "15 - 404\n",
      "16 - 205\n",
      "17 - 29\n",
      "18 - 75\n",
      "19 - 14\n",
      "20 - 1224\n",
      "21 - 24\n",
      "22 - 44\n",
      "23 - 21\n",
      "24 - 252\n",
      "25 - 674\n",
      "26 - 30\n",
      "27 - 30\n",
      "28 - 86\n",
      "29 - 7\n",
      "30 - 1149\n",
      "31 - 5\n",
      "32 - 266\n",
      "33 - 39\n",
      "34 - 28\n",
      "35 - 1297\n",
      "36 - 220\n",
      "37 - 149\n",
      "38 - 476\n",
      "39 - 38\n",
      "40 - 15217\n",
      "41 - 36\n",
      "42 - 219\n",
      "43 - 151\n",
      "44 - 212\n",
      "45 - 1824\n",
      "46 - 82\n",
      "47 - 49\n",
      "48 - 517\n",
      "49 - 29\n",
      "50 - 2819\n",
      "51 - 13\n",
      "52 - 138\n",
      "53 - 25\n",
      "54 - 41\n",
      "55 - 694\n",
      "56 - 97\n",
      "57 - 17\n",
      "58 - 28\n",
      "59 - 5\n",
      "60 - 1475\n",
      "61 - 2\n",
      "62 - 18\n",
      "63 - 10\n",
      "64 - 14\n",
      "65 - 244\n",
      "66 - 17\n",
      "67 - 4\n",
      "68 - 12\n",
      "70 - 291\n",
      "72 - 71\n",
      "73 - 2\n",
      "74 - 1\n",
      "75 - 66\n",
      "76 - 3\n",
      "77 - 6\n",
      "78 - 8\n",
      "80 - 133\n",
      "81 - 3\n",
      "82 - 1\n",
      "84 - 45\n",
      "85 - 13\n",
      "86 - 2\n",
      "87 - 1\n",
      "88 - 2\n",
      "89 - 2\n",
      "90 - 29\n",
      "91 - 3\n",
      "92 - 1\n",
      "94 - 1\n",
      "95 - 2\n",
      "96 - 5\n",
      "97 - 2\n",
      "98 - 11\n",
      "99 - 85\n"
     ]
    }
   ],
   "source": [
    "for a,b in data.groupby('hours-per-week'):\n",
    "    print(a, \"-\" ,b.shape[0])"
   ]
  },
  {
   "cell_type": "markdown",
   "metadata": {},
   "source": [
    "**10. Посчитайте среднее время работы (*hours-per-week*) зарабатывающих мало и много (*salary*) для каждой страны (*native-country*).**"
   ]
  },
  {
   "cell_type": "code",
   "execution_count": null,
   "metadata": {},
   "outputs": [],
   "source": []
  },
  {
   "cell_type": "code",
   "execution_count": 129,
   "metadata": {},
   "outputs": [
    {
     "name": "stdout",
     "output_type": "stream",
     "text": [
      "? --\n",
      "40.16475972540046\n",
      "45.54794520547945\n",
      "Cambodia --\n",
      "41.416666666666664\n",
      "40.0\n",
      "Canada --\n",
      "37.91463414634146\n",
      "45.64102564102564\n",
      "China --\n",
      "37.38181818181818\n",
      "38.9\n",
      "Columbia --\n",
      "38.68421052631579\n",
      "50.0\n",
      "Cuba --\n",
      "37.98571428571429\n",
      "42.44\n",
      "Dominican-Republic --\n",
      "42.338235294117645\n",
      "47.0\n",
      "Ecuador --\n",
      "38.041666666666664\n",
      "48.75\n",
      "El-Salvador --\n",
      "36.03092783505155\n",
      "45.0\n",
      "England --\n",
      "40.483333333333334\n",
      "44.53333333333333\n",
      "France --\n",
      "41.05882352941177\n",
      "50.75\n",
      "Germany --\n",
      "39.13978494623656\n",
      "44.97727272727273\n",
      "Greece --\n",
      "41.80952380952381\n",
      "50.625\n",
      "Guatemala --\n",
      "39.36065573770492\n",
      "36.666666666666664\n",
      "Haiti --\n",
      "36.325\n",
      "42.75\n",
      "Holand-Netherlands --\n",
      "40.0\n",
      "nan\n",
      "Honduras --\n",
      "34.333333333333336\n",
      "60.0\n",
      "Hong --\n",
      "39.142857142857146\n",
      "45.0\n",
      "Hungary --\n",
      "31.3\n",
      "50.0\n",
      "India --\n",
      "38.233333333333334\n",
      "46.475\n",
      "Iran --\n",
      "41.44\n",
      "47.5\n",
      "Ireland --\n",
      "40.94736842105263\n",
      "48.0\n",
      "Italy --\n",
      "39.625\n",
      "45.4\n",
      "Jamaica --\n",
      "38.23943661971831\n",
      "41.1\n",
      "Japan --\n",
      "41.0\n",
      "47.958333333333336\n",
      "Laos --\n",
      "40.375\n",
      "40.0\n",
      "Mexico --\n",
      "40.00327868852459\n",
      "46.57575757575758\n",
      "Nicaragua --\n",
      "36.09375\n",
      "37.5\n",
      "Outlying-US(Guam-USVI-etc) --\n",
      "41.857142857142854\n",
      "nan\n",
      "Peru --\n",
      "35.06896551724138\n",
      "40.0\n",
      "Philippines --\n",
      "38.065693430656935\n",
      "43.032786885245905\n",
      "Poland --\n",
      "38.166666666666664\n",
      "39.0\n",
      "Portugal --\n",
      "41.93939393939394\n",
      "41.5\n",
      "Puerto-Rico --\n",
      "38.470588235294116\n",
      "39.416666666666664\n",
      "Scotland --\n",
      "39.44444444444444\n",
      "46.666666666666664\n",
      "South --\n",
      "40.15625\n",
      "51.4375\n",
      "Taiwan --\n",
      "33.774193548387096\n",
      "46.8\n",
      "Thailand --\n",
      "42.86666666666667\n",
      "58.333333333333336\n",
      "Trinadad&Tobago --\n",
      "37.05882352941177\n",
      "40.0\n",
      "United-States --\n",
      "38.79912723305605\n",
      "45.50536884674383\n",
      "Vietnam --\n",
      "37.193548387096776\n",
      "39.2\n",
      "Yugoslavia --\n",
      "41.6\n",
      "49.5\n"
     ]
    }
   ],
   "source": [
    "for el, datael in data.groupby(['native-country']):\n",
    "    bog=datael[datael['salary']==\"<=50K\"]\n",
    "    bed=datael[datael['salary']==\">50K\"]\n",
    "    #print(bog['hours-per-week'].mean())\n",
    "    print(el,\"--\",)\n",
    "    print(bog['hours-per-week'].mean())\n",
    "    print(bed['hours-per-week'].mean())"
   ]
  },
  {
   "cell_type": "code",
   "execution_count": null,
   "metadata": {},
   "outputs": [],
   "source": []
  }
 ],
 "metadata": {
  "anaconda-cloud": {},
  "kernelspec": {
   "display_name": "Python 3",
   "language": "python",
   "name": "python3"
  },
  "language_info": {
   "codemirror_mode": {
    "name": "ipython",
    "version": 3
   },
   "file_extension": ".py",
   "mimetype": "text/x-python",
   "name": "python",
   "nbconvert_exporter": "python",
   "pygments_lexer": "ipython3",
   "version": "3.7.0"
  }
 },
 "nbformat": 4,
 "nbformat_minor": 1
}
